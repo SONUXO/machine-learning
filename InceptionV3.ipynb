{
  "nbformat": 4,
  "nbformat_minor": 0,
  "metadata": {
    "colab": {
      "provenance": [],
      "collapsed_sections": [],
      "authorship_tag": "ABX9TyNwJ6AxgLha4KPADRtX4vur",
      "include_colab_link": true
    },
    "kernelspec": {
      "name": "python3",
      "display_name": "Python 3"
    },
    "language_info": {
      "name": "python"
    }
  },
  "cells": [
    {
      "cell_type": "markdown",
      "metadata": {
        "id": "view-in-github",
        "colab_type": "text"
      },
      "source": [
        "<a href=\"https://colab.research.google.com/github/SONUXO/machine-learning/blob/main/InceptionV3.ipynb\" target=\"_parent\"><img src=\"https://colab.research.google.com/assets/colab-badge.svg\" alt=\"Open In Colab\"/></a>"
      ]
    },
    {
      "cell_type": "code",
      "execution_count": 47,
      "metadata": {
        "id": "kHnBkAw4K_Gl"
      },
      "outputs": [],
      "source": [
        "import tensorflow as tf\n",
        "import matplotlib.pyplot as plt\n",
        "import pandas as pd\n",
        "import numpy as np\n",
        "from keras.layers import Dense, Dropout, Activation, Flatten\n",
        "from keras.layers import Conv2D, MaxPooling2D , GlobalAveragePooling2D\n",
        "import itertools"
      ]
    },
    {
      "cell_type": "code",
      "source": [
        "from os import listdir\n",
        "from os.path import isdir, isfile, join"
      ],
      "metadata": {
        "id": "SqTgSOy1RTwm"
      },
      "execution_count": 7,
      "outputs": []
    },
    {
      "cell_type": "code",
      "source": [
        "from keras.preprocessing.image import ImageDataGenerator\n",
        "from keras.callbacks import ModelCheckpoint, EarlyStopping\n",
        "from keras.applications import InceptionV3\n",
        "from sklearn.metrics import accuracy_score, precision_recall_fscore_support"
      ],
      "metadata": {
        "id": "ybuTL80WP30v"
      },
      "execution_count": 12,
      "outputs": []
    },
    {
      "cell_type": "code",
      "source": [
        "from zipfile import ZipFile\n",
        "file_name= \"different shapes.zip\"\n",
        "\n",
        "with ZipFile(file_name,\"r\") as zip:\n",
        "  zip.extractall()\n",
        "  print(\"done\")"
      ],
      "metadata": {
        "colab": {
          "base_uri": "https://localhost:8080/"
        },
        "id": "BzaC7v08QfNy",
        "outputId": "4b97f620-7eca-4096-a0c4-0e78746957da"
      },
      "execution_count": 6,
      "outputs": [
        {
          "output_type": "stream",
          "name": "stdout",
          "text": [
            "done\n"
          ]
        }
      ]
    },
    {
      "cell_type": "code",
      "source": [
        "classes = sorted(listdir(\"/content/different shapes\"))\n",
        "classes"
      ],
      "metadata": {
        "colab": {
          "base_uri": "https://localhost:8080/"
        },
        "id": "SFHdRhg4RYr4",
        "outputId": "ac84802c-fb81-43bd-cc49-6907a6798fd5"
      },
      "execution_count": 45,
      "outputs": [
        {
          "output_type": "execute_result",
          "data": {
            "text/plain": [
              "['Bevel-gear', 'fuel-tank', 'helical_gear', 'piston', 'rack-pinion', 'shocker']"
            ]
          },
          "metadata": {},
          "execution_count": 45
        }
      ]
    },
    {
      "cell_type": "code",
      "source": [
        "pip install split-folders[full]"
      ],
      "metadata": {
        "id": "0qlFWQJASKq7"
      },
      "execution_count": null,
      "outputs": []
    },
    {
      "cell_type": "code",
      "source": [
        "import splitfolders\n",
        "input_folder=\"different shapes\"\n",
        "splitfolders.ratio(input_folder, output= \"dataset\",seed=42,\n",
        "                   ratio=(.7,.1,.2),\n",
        "                   group_prefix=None)"
      ],
      "metadata": {
        "colab": {
          "base_uri": "https://localhost:8080/"
        },
        "id": "x89wB7P-SLpx",
        "outputId": "6d29e930-e5ce-40f9-ff69-b888acedf513"
      },
      "execution_count": 10,
      "outputs": [
        {
          "output_type": "stream",
          "name": "stderr",
          "text": [
            "Copying files: 100 files [00:00, 5499.21 files/s]\n"
          ]
        }
      ]
    },
    {
      "cell_type": "code",
      "source": [
        "from keras.preprocessing.image import ImageDataGenerator\n",
        "train_datagen= ImageDataGenerator(rescale=1./255, shear_range=0.5,\n",
        "                                  zoom_range=0.2,\n",
        "                                  horizontal_flip=True,\n",
        "                                  vertical_flip=True,\n",
        "                                  rotation_range=40,\n",
        "                                  brightness_range=[0.1,0.9]\n",
        "                                  ).flow_from_directory(\"/content/dataset/train\",\n",
        "                                                                         target_size=(244,244),\n",
        "                                                                         batch_size=20,\n",
        "                                                                         class_mode=\"categorical\")\n",
        "                                  \n",
        "test_datagen=ImageDataGenerator(rescale=1./255).flow_from_directory(\"/content/dataset/test\",\n",
        "                                                                    target_size=(244,244),\n",
        "                                                                    batch_size=20,\n",
        "                                                                    class_mode=\"categorical\",\n",
        "                                                                    shuffle=False)\n",
        "\n",
        "valid_datagen= ImageDataGenerator(rescale=1./255, shear_range=0.5,\n",
        "                                  zoom_range=0.2,\n",
        "                                  horizontal_flip=True,\n",
        "                                  vertical_flip=True,\n",
        "                                  rotation_range=40,\n",
        "                                  brightness_range=[0.1,0.9]\n",
        "                                  ).flow_from_directory(\"/content/dataset/val\",\n",
        "                                                                         target_size=(244,244),\n",
        "                                                                         batch_size=20,\n",
        "                                                                         class_mode=\"categorical\")     "
      ],
      "metadata": {
        "colab": {
          "base_uri": "https://localhost:8080/"
        },
        "id": "t80ZWI6LQ9tA",
        "outputId": "87ead538-4a6b-4c4f-b4f3-7fc52595bdbe"
      },
      "execution_count": 48,
      "outputs": [
        {
          "output_type": "stream",
          "name": "stdout",
          "text": [
            "Found 68 images belonging to 6 classes.\n",
            "Found 24 images belonging to 6 classes.\n",
            "Found 7 images belonging to 6 classes.\n"
          ]
        }
      ]
    },
    {
      "cell_type": "code",
      "source": [
        "tf.random.set_seed(42)\n",
        "In_model = InceptionV3(include_top=False,input_shape=(244, 244,3))\n",
        "In_model.trainable=False\n",
        "model=tf.keras.Sequential([\n",
        "    In_model,\n",
        "    GlobalAveragePooling2D(),\n",
        "    tf.keras.layers.Dropout(0.2),\n",
        "    Flatten(),     \n",
        "    tf.keras.layers.Dense(units=1000,activation=\"relu\"),\n",
        "    tf.keras.layers.Dense(units=6,activation=\"softmax\")\n",
        "  ]\n",
        ")\n",
        "\n",
        "model.summary()"
      ],
      "metadata": {
        "colab": {
          "base_uri": "https://localhost:8080/"
        },
        "id": "IBfiqoJ2RBJ-",
        "outputId": "32d4e75a-5efb-446b-d499-0e146af72e07"
      },
      "execution_count": 49,
      "outputs": [
        {
          "output_type": "stream",
          "name": "stdout",
          "text": [
            "Model: \"sequential_3\"\n",
            "_________________________________________________________________\n",
            " Layer (type)                Output Shape              Param #   \n",
            "=================================================================\n",
            " inception_v3 (Functional)   (None, 6, 6, 2048)        21802784  \n",
            "                                                                 \n",
            " global_average_pooling2d (G  (None, 2048)             0         \n",
            " lobalAveragePooling2D)                                          \n",
            "                                                                 \n",
            " dropout_3 (Dropout)         (None, 2048)              0         \n",
            "                                                                 \n",
            " flatten_1 (Flatten)         (None, 2048)              0         \n",
            "                                                                 \n",
            " dense_6 (Dense)             (None, 1000)              2049000   \n",
            "                                                                 \n",
            " dense_7 (Dense)             (None, 6)                 6006      \n",
            "                                                                 \n",
            "=================================================================\n",
            "Total params: 23,857,790\n",
            "Trainable params: 2,055,006\n",
            "Non-trainable params: 21,802,784\n",
            "_________________________________________________________________\n"
          ]
        }
      ]
    },
    {
      "cell_type": "code",
      "source": [
        "model.compile(loss=tf.keras.losses.CategoricalCrossentropy(),\n",
        "              optimizer=tf.keras.optimizers.Adam(lr=0.0001),\n",
        "              metrics=[\"accuracy\"]\n",
        "              )"
      ],
      "metadata": {
        "colab": {
          "base_uri": "https://localhost:8080/"
        },
        "id": "b7WNhWRNWp9e",
        "outputId": "a129e9d6-d99c-44aa-c5fa-7c30eaaa2da9"
      },
      "execution_count": 50,
      "outputs": [
        {
          "output_type": "stream",
          "name": "stderr",
          "text": [
            "/usr/local/lib/python3.7/dist-packages/keras/optimizers/optimizer_v2/adam.py:110: UserWarning: The `lr` argument is deprecated, use `learning_rate` instead.\n",
            "  super(Adam, self).__init__(name, **kwargs)\n"
          ]
        }
      ]
    },
    {
      "cell_type": "code",
      "source": [
        "history=model.fit(x=train_datagen, validation_data=valid_datagen,epochs=20, verbose=1 , callbacks= [tf.keras.callbacks.EarlyStopping(monitor=\"val_accuracy\",patience=10, mode='min')]\n",
        "                 )"
      ],
      "metadata": {
        "id": "N4n7blZvW9dC"
      },
      "execution_count": null,
      "outputs": []
    },
    {
      "cell_type": "code",
      "source": [
        "def make_confusion_matrix(con_m, classes, normalize=False, title =\"confusion matrix\",cmap=plt.cm.Blues):\n",
        "  plt.imshow(con_m, interpolation=\"nearest\", cmap=cmap)\n",
        "  plt.title(title)\n",
        "  plt.colorbar()\n",
        "  tick_marks= np.arange(len(classes))\n",
        "  plt.xticks(tick_marks, classes, rotation=90)\n",
        "  plt.yticks(tick_marks, classes)\n",
        "\n",
        "  if normalize:\n",
        "    con_m=con_m.astype(\"float\")/cm.sum(axis=1)[:,np.newaxis]\n",
        "    print(\"Normalized confusion matrix\")\n",
        "  else:\n",
        "    print(\"cofusion. matrix, without normalization\")\n",
        "\n",
        "  print(con_m)\n",
        "\n",
        "  thresh= con_m.max()/2\n",
        "\n",
        "  for i, j in itertools.product(range(con_m.shape[0]), range(con_m.shape[1])):\n",
        "    plt.text(j,i,con_m[i,j],horizontalalignment=\"center\",color=\"white\" if con_m[i,j] > thresh else \"black\")\n",
        "\n",
        "  plt.tight_layout()\n",
        "  plt.ylabel(\"True label\")\n",
        "  plt.xlabel(\"predicted label\")"
      ],
      "metadata": {
        "id": "jIkNB4M_dE9K"
      },
      "execution_count": 54,
      "outputs": []
    },
    {
      "cell_type": "code",
      "source": [
        "test_img,test_labels=next(test_datagen)\n",
        "print(test_labels)"
      ],
      "metadata": {
        "colab": {
          "base_uri": "https://localhost:8080/"
        },
        "id": "OqfycIHmd1WO",
        "outputId": "f184e25f-5b4c-4ef4-b015-52542e32546f"
      },
      "execution_count": 52,
      "outputs": [
        {
          "output_type": "stream",
          "name": "stdout",
          "text": [
            "[[1. 0. 0. 0. 0. 0.]\n",
            " [1. 0. 0. 0. 0. 0.]\n",
            " [1. 0. 0. 0. 0. 0.]\n",
            " [1. 0. 0. 0. 0. 0.]\n",
            " [1. 0. 0. 0. 0. 0.]\n",
            " [1. 0. 0. 0. 0. 0.]\n",
            " [0. 1. 0. 0. 0. 0.]\n",
            " [0. 1. 0. 0. 0. 0.]\n",
            " [0. 1. 0. 0. 0. 0.]\n",
            " [0. 1. 0. 0. 0. 0.]\n",
            " [0. 1. 0. 0. 0. 0.]\n",
            " [0. 0. 1. 0. 0. 0.]\n",
            " [0. 0. 1. 0. 0. 0.]\n",
            " [0. 0. 1. 0. 0. 0.]\n",
            " [0. 0. 0. 1. 0. 0.]\n",
            " [0. 0. 0. 1. 0. 0.]\n",
            " [0. 0. 0. 1. 0. 0.]\n",
            " [0. 0. 0. 0. 1. 0.]\n",
            " [0. 0. 0. 0. 1. 0.]\n",
            " [0. 0. 0. 0. 1. 0.]]\n"
          ]
        }
      ]
    },
    {
      "cell_type": "code",
      "source": [
        "predictions=model.predict(x=test_datagen,verbose=0)\n",
        "results=np.round(predictions)\n",
        "results"
      ],
      "metadata": {
        "colab": {
          "base_uri": "https://localhost:8080/"
        },
        "id": "GKl7o2wVhv11",
        "outputId": "f65dc725-9916-42a0-9459-9180d3e8a2e9"
      },
      "execution_count": 55,
      "outputs": [
        {
          "output_type": "execute_result",
          "data": {
            "text/plain": [
              "array([[1., 0., 0., 0., 0., 0.],\n",
              "       [1., 0., 0., 0., 0., 0.],\n",
              "       [1., 0., 0., 0., 0., 0.],\n",
              "       [1., 0., 0., 0., 0., 0.],\n",
              "       [0., 0., 1., 0., 0., 0.],\n",
              "       [1., 0., 0., 0., 0., 0.],\n",
              "       [0., 1., 0., 0., 0., 0.],\n",
              "       [0., 1., 0., 0., 0., 0.],\n",
              "       [0., 1., 0., 0., 0., 0.],\n",
              "       [0., 1., 0., 0., 0., 0.],\n",
              "       [0., 1., 0., 0., 0., 0.],\n",
              "       [0., 0., 1., 0., 0., 0.],\n",
              "       [0., 0., 1., 0., 0., 0.],\n",
              "       [0., 0., 0., 0., 0., 0.],\n",
              "       [0., 0., 0., 1., 0., 0.],\n",
              "       [0., 0., 0., 1., 0., 0.],\n",
              "       [0., 0., 0., 1., 0., 0.],\n",
              "       [0., 0., 0., 0., 1., 0.],\n",
              "       [0., 0., 0., 0., 1., 0.],\n",
              "       [0., 0., 0., 0., 1., 0.],\n",
              "       [0., 0., 0., 0., 0., 1.],\n",
              "       [0., 0., 0., 0., 0., 1.],\n",
              "       [0., 0., 0., 0., 0., 1.],\n",
              "       [0., 0., 0., 0., 0., 1.]], dtype=float32)"
            ]
          },
          "metadata": {},
          "execution_count": 55
        }
      ]
    },
    {
      "cell_type": "code",
      "source": [],
      "metadata": {
        "id": "Qcyw00rxjCxc"
      },
      "execution_count": null,
      "outputs": []
    },
    {
      "cell_type": "code",
      "source": [
        "from sklearn.metrics import confusion_matrix \n",
        "cm = confusion_matrix(y_true=test_datagen.classes, y_pred=np.argmax(predictions, axis=-1))\n",
        "make_confusion_matrix(con_m=cm,classes=classes,title=\"confusion_matrix\")"
      ],
      "metadata": {
        "colab": {
          "base_uri": "https://localhost:8080/",
          "height": 433
        },
        "id": "xJfAkdJvgwUC",
        "outputId": "90169cb5-b5cc-4281-9c1c-6c2cfce6dba1"
      },
      "execution_count": 56,
      "outputs": [
        {
          "output_type": "stream",
          "name": "stdout",
          "text": [
            "cofusion. matrix, without normalization\n",
            "[[5 0 1 0 0 0]\n",
            " [0 5 0 0 0 0]\n",
            " [0 0 3 0 0 0]\n",
            " [0 0 0 3 0 0]\n",
            " [0 0 0 0 3 0]\n",
            " [0 0 0 0 0 4]]\n"
          ]
        },
        {
          "output_type": "display_data",
          "data": {
            "text/plain": [
              "<Figure size 432x288 with 2 Axes>"
            ],
            "image/png": "[encoded data removed]"
          },
          "metadata": {
            "needs_background": "light"
          }
        }
      ]
    },
    {
      "cell_type": "code",
      "source": [],
      "metadata": {
        "id": "x5NBE5nHeGbh"
      },
      "execution_count": null,
      "outputs": []
    }
  ]
}