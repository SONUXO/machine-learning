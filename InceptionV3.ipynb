{
  "nbformat": 4,
  "nbformat_minor": 0,
  "metadata": {
    "colab": {
      "provenance": [],
      "collapsed_sections": [],
      "authorship_tag": "ABX9TyNeuFz63Miirk733qpDcfLr",
      "include_colab_link": true
    },
    "kernelspec": {
      "name": "python3",
      "display_name": "Python 3"
    },
    "language_info": {
      "name": "python"
    }
  },
  "cells": [
    {
      "cell_type": "markdown",
      "metadata": {
        "id": "view-in-github",
        "colab_type": "text"
      },
      "source": [
        "<a href=\"https://colab.research.google.com/github/SONUXO/machine-learning/blob/main/InceptionV3.ipynb\" target=\"_parent\"><img src=\"https://colab.research.google.com/assets/colab-badge.svg\" alt=\"Open In Colab\"/></a>"
      ]
    },
    {
      "cell_type": "code",
      "execution_count": null,
      "metadata": {
        "id": "kHnBkAw4K_Gl"
      },
      "outputs": [],
      "source": [
        "import tensorflow as tf\n",
        "import matplotlib.pyplot as plt\n",
        "import pandas as pd\n",
        "import numpy as np\n",
        "from keras.layers import Dense, Dropout, Activation, Flatten\n",
        "from keras.layers import Conv2D, MaxPooling2D , GlobalAveragePooling2D\n",
        "import itertools"
      ]
    },
    {
      "cell_type": "code",
      "source": [
        "from os import listdir\n",
        "from os.path import isdir, isfile, join"
      ],
      "metadata": {
        "id": "SqTgSOy1RTwm"
      },
      "execution_count": null,
      "outputs": []
    },
    {
      "cell_type": "code",
      "source": [
        "from keras.preprocessing.image import ImageDataGenerator\n",
        "from keras.callbacks import ModelCheckpoint, EarlyStopping\n",
        "from keras.applications import InceptionV3\n",
        "from sklearn.metrics import accuracy_score, precision_recall_fscore_support"
      ],
      "metadata": {
        "id": "ybuTL80WP30v"
      },
      "execution_count": null,
      "outputs": []
    },
    {
      "cell_type": "code",
      "source": [
        "from zipfile import ZipFile\n",
        "file_name= \"archive.zip\"\n",
        "\n",
        "with ZipFile(file_name,\"r\") as zip:\n",
        "  zip.extractall()\n",
        "  print(\"done\")"
      ],
      "metadata": {
        "colab": {
          "base_uri": "https://localhost:8080/"
        },
        "id": "BzaC7v08QfNy",
        "outputId": "d21065fe-81ce-47cd-81e8-b8c67f8213c8"
      },
      "execution_count": null,
      "outputs": [
        {
          "output_type": "stream",
          "name": "stdout",
          "text": [
            "done\n"
          ]
        }
      ]
    },
    {
      "cell_type": "code",
      "source": [
        "classes = sorted(listdir(\"/content/Automobile-parts\"))\n",
        "classes"
      ],
      "metadata": {
        "id": "SFHdRhg4RYr4"
      },
      "execution_count": null,
      "outputs": []
    },
    {
      "cell_type": "code",
      "source": [
        "pip install split-folders[full]"
      ],
      "metadata": {
        "id": "0qlFWQJASKq7"
      },
      "execution_count": null,
      "outputs": []
    },
    {
      "cell_type": "code",
      "source": [
        "import splitfolders\n",
        "input_folder=\"Automobile-parts\"\n",
        "splitfolders.ratio(input_folder, output= \"dataset\",seed=42,\n",
        "                   ratio=(.7,.1,.2),\n",
        "                   group_prefix=None)"
      ],
      "metadata": {
        "colab": {
          "base_uri": "https://localhost:8080/"
        },
        "id": "x89wB7P-SLpx",
        "outputId": "8ba3ea13-05f5-4e9a-e910-0a8d2a44c411"
      },
      "execution_count": null,
      "outputs": [
        {
          "output_type": "stream",
          "name": "stderr",
          "text": [
            "Copying files: 689 files [00:00, 4638.69 files/s]\n"
          ]
        }
      ]
    },
    {
      "cell_type": "code",
      "source": [
        "from keras.preprocessing.image import ImageDataGenerator\n",
        "train_datagen= ImageDataGenerator(rescale=1./255, shear_range=0.5,\n",
        "                                  zoom_range=0.2,\n",
        "                                  horizontal_flip=True,\n",
        "                                  vertical_flip=True,\n",
        "                                  rotation_range=40,\n",
        "                                  brightness_range=[0.1,0.9]\n",
        "                                  ).flow_from_directory(\"/content/dataset/train\",\n",
        "                                                                         target_size=(244,244),\n",
        "                                                                         batch_size=20,\n",
        "                                                                         class_mode=\"categorical\")\n",
        "                                  \n",
        "test_datagen=ImageDataGenerator(rescale=1./255).flow_from_directory(\"/content/dataset/test\",\n",
        "                                                                    target_size=(244,244),\n",
        "                                                                    batch_size=20,\n",
        "                                                                    class_mode=\"categorical\",\n",
        "                                                                    shuffle=False)\n",
        "\n",
        "valid_datagen= ImageDataGenerator(rescale=1./255, shear_range=0.5,\n",
        "                                  zoom_range=0.2,\n",
        "                                  horizontal_flip=True,\n",
        "                                  vertical_flip=True,\n",
        "                                  rotation_range=40,\n",
        "                                  brightness_range=[0.1,0.9]\n",
        "                                  ).flow_from_directory(\"/content/dataset/val\",\n",
        "                                                                         target_size=(244,244),\n",
        "                                                                         batch_size=20,\n",
        "                                                                         class_mode=\"categorical\")     "
      ],
      "metadata": {
        "id": "t80ZWI6LQ9tA"
      },
      "execution_count": null,
      "outputs": []
    },
    {
      "cell_type": "code",
      "source": [
        "tf.random.set_seed(42)\n",
        "In_model = InceptionV3(include_top=False,input_shape=(244, 244,3))\n",
        "In_model.trainable=False\n",
        "model=tf.keras.Sequential([\n",
        "    In_model,\n",
        "    GlobalAveragePooling2D(),\n",
        "    tf.keras.layers.Dropout(0.2),\n",
        "    Flatten(),     \n",
        "    tf.keras.layers.Dense(units=1000,activation=\"relu\"),\n",
        "    tf.keras.layers.Dense(units=14,activation=\"softmax\")\n",
        "  ]\n",
        ")\n",
        "\n",
        "model.summary()"
      ],
      "metadata": {
        "id": "IBfiqoJ2RBJ-"
      },
      "execution_count": null,
      "outputs": []
    },
    {
      "cell_type": "code",
      "source": [
        "model.compile(loss=tf.keras.losses.CategoricalCrossentropy(),\n",
        "              optimizer=tf.keras.optimizers.Adam(lr=0.0001),\n",
        "              metrics=[\"accuracy\"]\n",
        "              )"
      ],
      "metadata": {
        "id": "b7WNhWRNWp9e"
      },
      "execution_count": null,
      "outputs": []
    },
    {
      "cell_type": "code",
      "source": [
        "history=model.fit(x=train_datagen, validation_data=valid_datagen,epochs=20, verbose=1 , callbacks= [tf.keras.callbacks.EarlyStopping(monitor=\"val_accuracy\",patience=10, mode='min')]\n",
        "                 )"
      ],
      "metadata": {
        "id": "N4n7blZvW9dC"
      },
      "execution_count": null,
      "outputs": []
    },
    {
      "cell_type": "code",
      "source": [
        "def make_confusion_matrix(con_m, classes, normalize=False, title =\"confusion matrix\",cmap=plt.cm.Blues):\n",
        "  plt.imshow(con_m, interpolation=\"nearest\", cmap=cmap)\n",
        "  plt.title(title)\n",
        "  plt.colorbar()\n",
        "  tick_marks= np.arange(len(classes))\n",
        "  plt.xticks(tick_marks, classes, rotation=90)\n",
        "  plt.yticks(tick_marks, classes)\n",
        "\n",
        "  if normalize:\n",
        "    con_m=con_m.astype(\"float\")/cm.sum(axis=1)[:,np.newaxis]\n",
        "    print(\"Normalized confusion matrix\")\n",
        "  else:\n",
        "    print(\"cofusion. matrix, without normalization\")\n",
        "\n",
        "  print(con_m)\n",
        "\n",
        "  thresh= con_m.max()/2\n",
        "\n",
        "  for i, j in itertools.product(range(con_m.shape[0]), range(con_m.shape[1])):\n",
        "    plt.text(j,i,con_m[i,j],horizontalalignment=\"center\",color=\"white\" if con_m[i,j] > thresh else \"black\")\n",
        "\n",
        "  plt.tight_layout()\n",
        "  plt.ylabel(\"True label\")\n",
        "  plt.xlabel(\"predicted label\")"
      ],
      "metadata": {
        "id": "jIkNB4M_dE9K"
      },
      "execution_count": null,
      "outputs": []
    },
    {
      "cell_type": "code",
      "source": [
        "predictions=model.predict(x=test_datagen,verbose=0)\n",
        "results=np.round(predictions)\n",
        "results"
      ],
      "metadata": {
        "id": "GKl7o2wVhv11"
      },
      "execution_count": null,
      "outputs": []
    },
    {
      "cell_type": "code",
      "source": [
        "from sklearn.metrics import confusion_matrix \n",
        "cm = confusion_matrix(y_true=test_datagen.classes, y_pred=np.argmax(predictions, axis=-1))\n",
        "make_confusion_matrix(con_m=cm,classes=classes,title=\"confusion_matrix\")"
      ],
      "metadata": {
        "id": "xJfAkdJvgwUC"
      },
      "execution_count": null,
      "outputs": []
    },
    {
      "cell_type": "code",
      "source": [
        "loss, accuracy = model.evaluate(valid_datagen)\n",
        "print('test accuracy : ', accuracy)\n",
        "print('loss :', loss)"
      ],
      "metadata": {
        "id": "x5NBE5nHeGbh"
      },
      "execution_count": null,
      "outputs": []
    },
    {
      "cell_type": "code",
      "source": [
        "from sklearn.metrics import classification_report\n",
        "print(classification_report(y_true=test_datagen.classes, y_pred=np.argmax(predictions, axis=-1)))"
      ],
      "metadata": {
        "id": "Y7uwIqB6ECXz"
      },
      "execution_count": null,
      "outputs": []
    },
    {
      "cell_type": "code",
      "source": [
        "from IPython.display import display, Javascript\n",
        "from google.colab.output import eval_js\n",
        "from base64 import b64decode\n",
        "\n",
        "def take_photo(filename='photo.jpg', quality=0.8):\n",
        "  js = Javascript('''\n",
        "    async function takePhoto(quality) {\n",
        "      const div = document.createElement('div');\n",
        "      const capture = document.createElement('button');\n",
        "      capture.textContent = 'Capture';\n",
        "      div.appendChild(capture);\n",
        "\n",
        "      const video = document.createElement('video');\n",
        "      video.style.display = 'block';\n",
        "      const stream = await navigator.mediaDevices.getUserMedia({video: true});\n",
        "\n",
        "      document.body.appendChild(div);\n",
        "      div.appendChild(video);\n",
        "      video.srcObject = stream;\n",
        "      await video.play();\n",
        "\n",
        "      // Resize the output to fit the video element.\n",
        "      google.colab.output.setIframeHeight(document.documentElement.scrollHeight, true);\n",
        "\n",
        "      // Wait for Capture to be clicked.\n",
        "      await new Promise((resolve) => capture.onclick = resolve);\n",
        "\n",
        "      const canvas = document.createElement('canvas');\n",
        "      canvas.width = video.videoWidth;\n",
        "      canvas.height = video.videoHeight;\n",
        "      canvas.getContext('2d').drawImage(video, 0, 0);\n",
        "      stream.getVideoTracks()[0].stop();\n",
        "      div.remove();\n",
        "      return canvas.toDataURL('image/jpeg', quality);\n",
        "    }\n",
        "    ''')\n",
        "  display(js)\n",
        "  data = eval_js('takePhoto({})'.format(quality))\n",
        "  binary = b64decode(data.split(',')[1])\n",
        "  with open(filename, 'wb') as f:\n",
        "    f.write(binary)\n",
        "  return filename"
      ],
      "metadata": {
        "id": "rjh6fPhIbBkT"
      },
      "execution_count": null,
      "outputs": []
    },
    {
      "cell_type": "code",
      "source": [
        "from IPython.display import Image\n",
        "try:\n",
        "  filename = take_photo()\n",
        "  print('Saved to {}'.format(filename))\n",
        "  \n",
        "  # Show the image which was just taken.\n",
        "  display(Image(filename))\n",
        "except Exception as err:\n",
        "  # Errors will be thrown if the user does not have a webcam or if they do not\n",
        "  # grant the page permission to access it.\n",
        "  print(str(err))"
      ],
      "metadata": {
        "id": "kJdassECbBkU"
      },
      "execution_count": null,
      "outputs": []
    },
    {
      "cell_type": "code",
      "source": [
        "from tensorflow.keras.preprocessing import image\n",
        "img = image.load_img(\"/content/photo.jpg\", target_size=(244, 244))\n",
        "plt.imshow(img)\n",
        "plt.show() "
      ],
      "metadata": {
        "id": "QKmY1qHVn26w"
      },
      "execution_count": null,
      "outputs": []
    },
    {
      "cell_type": "code",
      "source": [
        "img_array = image.img_to_array(img)\n",
        "img_batch = np.expand_dims(img_array, axis=0)"
      ],
      "metadata": {
        "id": "PcgF6aahpipD"
      },
      "execution_count": null,
      "outputs": []
    },
    {
      "cell_type": "code",
      "source": [
        "test1=model.predict(img_batch,verbose=0)\n",
        "results=np.round(test1)\n",
        "results"
      ],
      "metadata": {
        "id": "JfpXqeCrncnN"
      },
      "execution_count": null,
      "outputs": []
    }
  ]
}