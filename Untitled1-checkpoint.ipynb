{
 "cells": [
  {
   "cell_type": "code",
   "execution_count": 17,
   "id": "339d53c3",
   "metadata": {},
   "outputs": [],
   "source": [
    "import numpy as np\n",
    "import pandas as pd\n",
    "import cv2\n",
    "import os\n",
    "from skimage.filters import roberts, sobel, scharr, prewitt\n",
    "from scipy import ndimage as nd"
   ]
  },
  {
   "cell_type": "code",
   "execution_count": 44,
   "id": "9186c9d4",
   "metadata": {},
   "outputs": [],
   "source": [
    "img=cv2.imread(\"C:/Users/Bumble Bee/Downloads/Research/Oral Cancer Detection/ftmp4cvtmb-1/First Set/Selected_Oscc/OSCC_100x_330.jpg\")\n",
    "img =cv2.cvtColor(img,cv2.COLOR_BGR2GRAY)"
   ]
  },
  {
   "cell_type": "code",
   "execution_count": 45,
   "id": "2dce95e0",
   "metadata": {},
   "outputs": [],
   "source": [
    "img2= img.reshape(-1)\n",
    "df=pd.DataFrame()\n",
    "df[\"Original Image\"]=img2\n"
   ]
  },
  {
   "cell_type": "code",
   "execution_count": 46,
   "id": "4f159e40",
   "metadata": {},
   "outputs": [],
   "source": [
    "num=1\n",
    "kernels=[]\n",
    "for theta in range(2):\n",
    "    theta=theta /4 *np.pi\n",
    "    for sigma in (1,3):\n",
    "        for lamda in np.arange(0,np.pi,np.pi /4):\n",
    "            for gamma in(0.05, 0.5):\n",
    "                gabor_label='Gabor'+str(num)\n",
    "                ksize=9\n",
    "                kernel=cv2.getGaborKernel((ksize,ksize),sigma,theta,lamda,gamma,0, ktype=cv2.CV_32F)\n",
    "                kernels.append(kernel)\n",
    "                fimg=cv2.filter2D(img,cv2.CV_8UC3,kernel)\n",
    "                filtered_img=fimg.reshape(-1)\n",
    "                df[gabor_label]=filtered_img\n",
    "                num+=1\n",
    "                        \n",
    "edges=cv2.Canny(img,100,200)\n",
    "edges1=edges.reshape(-1)\n",
    "tmp=pd.DataFrame(edges1)\n",
    "df[\"Canny edge\"]=tmp\n",
    "df[\"Canny edge\"].fillna(0)\n",
    "        \n",
    "edge_roberts=roberts(img)\n",
    "edge_roberts1=edge_roberts.reshape(-1)\n",
    "df['Roberts']=edge_roberts1\n",
    "\n",
    "edge_sobel =sobel(img)\n",
    "edge_sobel1=edge_sobel.reshape(-1)\n",
    "df['Sobel']= edge_sobel1\n",
    "\n",
    "edge_scharr = scharr(img)\n",
    "edge_scharr1 =edge_scharr.reshape(-1)\n",
    "df['Scharr']=edge_scharr1\n",
    "\n",
    "edge_prewitt= prewitt(img)\n",
    "edge_prewitt1 = edge_prewitt.reshape(-1)\n",
    "df['Prewitt']=edge_prewitt1\n",
    "\n",
    "gaussian_img = nd.gaussian_filter(img,sigma=3)\n",
    "gaussian_img1= gaussian_img.reshape(-1)\n",
    "df['Gaussian s3']= gaussian_img1\n",
    "\n",
    "gaussian_img2= nd.gaussian_filter(img,sigma=7)\n",
    "gaussian_img3= gaussian_img.reshape(-1)\n",
    "df['Gaussian s7']=gaussian_img3\n",
    "\n",
    "median_img= nd.median_filter(img,size=3)\n",
    "median_img1= median_img.reshape(-1)\n",
    "df['Median s3']=median_img1"
   ]
  },
  {
   "cell_type": "code",
   "execution_count": 47,
   "id": "f5a50f6e",
   "metadata": {},
   "outputs": [],
   "source": [
    "masked_img= cv2.imread(\"C:/Users/Bumble Bee/Downloads/Research/Oral Cancer Detection/ftmp4cvtmb-1/First Set/Selected_Oscc/OSCC_100x_327_Keretin-pearl_Lumphs_Musclee_background.ome.tiff\")\n",
    "masked_img=cv2.cvtColor(masked_img,cv2.COLOR_BGR2GRAY)\n",
    "masked_img1=masked_img.reshape(-1)\n",
    "df['Labels']=masked_img1"
   ]
  },
  {
   "cell_type": "code",
   "execution_count": 48,
   "id": "7747f1b7",
   "metadata": {},
   "outputs": [],
   "source": [
    "original_img_data=df.drop(labels=[\"Labels\"],axis=1)\n",
    "df=df[df.Labels !=0]\n"
   ]
  },
  {
   "cell_type": "code",
   "execution_count": 49,
   "id": "4a7d2207",
   "metadata": {},
   "outputs": [],
   "source": [
    "y=df[\"Labels\"].values"
   ]
  },
  {
   "cell_type": "code",
   "execution_count": 50,
   "id": "579120c8",
   "metadata": {},
   "outputs": [],
   "source": [
    "from sklearn.preprocessing import LabelEncoder\n",
    "y=LabelEncoder().fit_transform(y)"
   ]
  },
  {
   "cell_type": "code",
   "execution_count": 51,
   "id": "95024eb1",
   "metadata": {},
   "outputs": [],
   "source": [
    "x= df.drop(labels=[\"Labels\"],axis=1)\n"
   ]
  },
  {
   "cell_type": "code",
   "execution_count": 52,
   "id": "601ca5c5",
   "metadata": {},
   "outputs": [],
   "source": [
    "from sklearn.model_selection import train_test_split\n",
    "x_train,x_test, y_train , y_test = train_test_split(x,y,test_size=0.2, random_state=20)"
   ]
  },
  {
   "cell_type": "code",
   "execution_count": 27,
   "id": "642a3990",
   "metadata": {},
   "outputs": [
    {
     "data": {
      "text/plain": [
       "RandomForestClassifier(n_estimators=25, random_state=42)"
      ]
     },
     "execution_count": 27,
     "metadata": {},
     "output_type": "execute_result"
    }
   ],
   "source": [
    "from sklearn.ensemble import RandomForestClassifier\n",
    "model= RandomForestClassifier(n_estimators=25, random_state=42)\n",
    "model.fit(x_train,y_train)"
   ]
  },
  {
   "cell_type": "code",
   "execution_count": null,
   "id": "c4693dec",
   "metadata": {},
   "outputs": [],
   "source": []
  },
  {
   "cell_type": "code",
   "execution_count": 53,
   "id": "f306a5ac",
   "metadata": {},
   "outputs": [
    {
     "name": "stdout",
     "output_type": "stream",
     "text": [
      "Accuracy=  0.6785949485674003\n"
     ]
    }
   ],
   "source": [
    "from sklearn import metrics\n",
    "prediction_test_random= model.predict(x_test)\n",
    "#prediction_test_svm =model_SVM.predict(x_test)\n",
    "print(\"Accuracy= \",metrics.accuracy_score(y_test,prediction_test_random))\n",
    "#print(\"Accuracy= \",metrics.accuracy_score(y_test,prediction_test_svm))"
   ]
  },
  {
   "cell_type": "code",
   "execution_count": 54,
   "id": "8acdcf3d",
   "metadata": {},
   "outputs": [],
   "source": [
    "result=model.predict(original_img_data)"
   ]
  },
  {
   "cell_type": "code",
   "execution_count": 15,
   "id": "83be134b",
   "metadata": {},
   "outputs": [
    {
     "data": {
      "text/plain": [
       "(3145728,)"
      ]
     },
     "execution_count": 15,
     "metadata": {},
     "output_type": "execute_result"
    }
   ],
   "source": [
    "result.shape"
   ]
  },
  {
   "cell_type": "code",
   "execution_count": 55,
   "id": "0b027ab6",
   "metadata": {},
   "outputs": [
    {
     "data": {
      "text/plain": [
       "<matplotlib.image.AxesImage at 0x213b4601b00>"
      ]
     },
     "execution_count": 55,
     "metadata": {},
     "output_type": "execute_result"
    },
    {
     "data": {
      "image/png": "[encoded data removed]",
      "text/plain": [
       "<Figure size 432x288 with 1 Axes>"
      ]
     },
     "metadata": {
      "needs_background": "light"
     },
     "output_type": "display_data"
    }
   ],
   "source": [
    "segmented=result.reshape((img.shape))\n",
    "from matplotlib import pyplot as plt\n",
    "plt.imshow(segmented,cmap='jet')"
   ]
  },
  {
   "cell_type": "code",
   "execution_count": 78,
   "id": "cad5f2cb",
   "metadata": {},
   "outputs": [
    {
     "data": {
      "text/plain": [
       "((1536, 2048), 3145728)"
      ]
     },
     "execution_count": 78,
     "metadata": {},
     "output_type": "execute_result"
    }
   ],
   "source": [
    "img.shape, img.size"
   ]
  },
  {
   "cell_type": "code",
   "execution_count": 88,
   "id": "83c41b1e",
   "metadata": {},
   "outputs": [
    {
     "data": {
      "text/plain": [
       "((3145728, 1), 3145728)"
      ]
     },
     "execution_count": 88,
     "metadata": {},
     "output_type": "execute_result"
    }
   ],
   "source": [
    "original_img_data.shape , original_img_data.size"
   ]
  },
  {
   "cell_type": "code",
   "execution_count": 73,
   "id": "305f66e4",
   "metadata": {},
   "outputs": [
    {
     "data": {
      "text/plain": [
       "((1536, 2048), 3145728)"
      ]
     },
     "execution_count": 73,
     "metadata": {},
     "output_type": "execute_result"
    }
   ],
   "source": [
    "masked_img.shape, masked_img.size"
   ]
  },
  {
   "cell_type": "code",
   "execution_count": 74,
   "id": "22a30415",
   "metadata": {},
   "outputs": [
    {
     "data": {
      "text/plain": [
       "((327748, 42), 13765416)"
      ]
     },
     "execution_count": 74,
     "metadata": {},
     "output_type": "execute_result"
    }
   ],
   "source": [
    "df.shape , df.size"
   ]
  },
  {
   "cell_type": "code",
   "execution_count": 76,
   "id": "f5ed2a2a",
   "metadata": {},
   "outputs": [
    {
     "data": {
      "text/plain": [
       "((3145728,), 3145728)"
      ]
     },
     "execution_count": 76,
     "metadata": {},
     "output_type": "execute_result"
    }
   ],
   "source": [
    "img2.shape, img2.size"
   ]
  },
  {
   "cell_type": "code",
   "execution_count": null,
   "id": "95bea644",
   "metadata": {},
   "outputs": [],
   "source": []
  },
  {
   "cell_type": "code",
   "execution_count": 26,
   "id": "b1c81157",
   "metadata": {},
   "outputs": [
    {
     "data": {
      "text/plain": [
       "True"
      ]
     },
     "execution_count": 26,
     "metadata": {},
     "output_type": "execute_result"
    }
   ],
   "source": [
    "cv2.imwrite(\"C:/Users/Bumble Bee/Downloads/Research/Oral Cancer Detection/ftmp4cvtmb-1/First Set/Selected_Oscc/Segmented.jpg\",segmented)"
   ]
  },
  {
   "cell_type": "code",
   "execution_count": null,
   "id": "59dfc19f",
   "metadata": {},
   "outputs": [],
   "source": []
  },
  {
   "cell_type": "code",
   "execution_count": null,
   "id": "6fdbe7d3",
   "metadata": {},
   "outputs": [],
   "source": []
  }
 ],
 "metadata": {
  "kernelspec": {
   "display_name": "Python 3",
   "language": "python",
   "name": "python3"
  },
  "language_info": {
   "codemirror_mode": {
    "name": "ipython",
    "version": 3
   },
   "file_extension": ".py",
   "mimetype": "text/x-python",
   "name": "python",
   "nbconvert_exporter": "python",
   "pygments_lexer": "ipython3",
   "version": "3.6.13"
  }
 },
 "nbformat": 4,
 "nbformat_minor": 5
}
