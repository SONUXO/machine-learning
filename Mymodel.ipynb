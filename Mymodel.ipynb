{
  "nbformat": 4,
  "nbformat_minor": 0,
  "metadata": {
    "colab": {
      "name": "Mymodel.ipynb",
      "provenance": [],
      "collapsed_sections": []
    },
    "kernelspec": {
      "name": "python3",
      "display_name": "Python 3"
    },
    "language_info": {
      "name": "python"
    }
  },
  "cells": [
    {
      "cell_type": "code",
      "execution_count": null,
      "metadata": {
        "id": "oNTDOpnhXW_Q"
      },
      "outputs": [],
      "source": [
        "import pandas as pd\n",
        "import tensorflow as tf\n",
        "import numpy as np\n",
        "from matplotlib import pyplot as plt\n",
        "from tensorflow.keras import layers"
      ]
    },
    {
      "cell_type": "code",
      "source": [
        "train_set=pd.read_csv('train.csv')\n",
        "test_set=pd.read_csv('test.csv')\n"
      ],
      "metadata": {
        "id": "FRZ2PTwBZ3p9"
      },
      "execution_count": null,
      "outputs": []
    },
    {
      "cell_type": "code",
      "source": [
        "data= [train_set, test_set]\n",
        "\n",
        "for dataset in data:\n",
        "    dataset['Age']=dataset['Age'].fillna(dataset['Age'].mean())\n",
        "    dataset['Age']=dataset['Age'].astype(int)"
      ],
      "metadata": {
        "id": "sZ7JrNCJ1Vhk"
      },
      "execution_count": null,
      "outputs": []
    },
    {
      "cell_type": "code",
      "source": [
        "gender ={'male':0, 'female':1}\n",
        "data= [train_set,test_set]\n",
        "\n",
        "for dataset in data:\n",
        "      dataset['Sex']=dataset['Sex'].map(gender)"
      ],
      "metadata": {
        "id": "B3pXXXci1lAt"
      },
      "execution_count": null,
      "outputs": []
    },
    {
      "cell_type": "code",
      "source": [
        "port ={'S':0,'C':1,'Q':2}\n",
        "data =[train_set, test_set]\n",
        "for dataset in data:\n",
        "    dataset['Embarked']=dataset['Embarked'].fillna('S')\n",
        "    \n",
        "for dataset in data:\n",
        "    dataset['Embarked']= dataset['Embarked'].map(port)\n",
        "    dataset['Embarked']=dataset['Embarked'].astype(int)"
      ],
      "metadata": {
        "id": "wKfSgjPpWXXZ"
      },
      "execution_count": null,
      "outputs": []
    },
    {
      "cell_type": "code",
      "source": [
        "test_set_id= test_set['PassengerId']\n",
        "test_set_name=test_set['Name']\n",
        "\n",
        "train_set=train_set.drop(['PassengerId'],axis=1)\n",
        "train_set= train_set.drop(['Cabin'],axis=1)\n",
        "train_set= train_set.drop(['Name'],axis=1)\n",
        "train_set=train_set.drop(['Ticket'],axis=1)\n",
        "    \n",
        "test_set=test_set.drop(['PassengerId'],axis=1)\n",
        "test_set= test_set.drop(['Cabin'],axis=1)\n",
        "test_set= test_set.drop(['Name'],axis=1)\n",
        "test_set=test_set.drop(['Ticket'],axis=1)\n"
      ],
      "metadata": {
        "id": "AuJAeYP_WXOe"
      },
      "execution_count": null,
      "outputs": []
    },
    {
      "cell_type": "code",
      "source": [
        "train_set.head()"
      ],
      "metadata": {
        "colab": {
          "base_uri": "https://localhost:8080/",
          "height": 206
        },
        "id": "vWJWcvY9YsvT",
        "outputId": "fe224d8d-db36-4724-b091-1fcc9790c4a1"
      },
      "execution_count": null,
      "outputs": [
        {
          "output_type": "execute_result",
          "data": {
            "text/plain": [
              "   Survived  Pclass  Sex  Age  SibSp  Parch     Fare  Embarked\n",
              "0         0       3    0   22      1      0   7.2500         0\n",
              "1         1       1    1   38      1      0  71.2833         1\n",
              "2         1       3    1   26      0      0   7.9250         0\n",
              "3         1       1    1   35      1      0  53.1000         0\n",
              "4         0       3    0   35      0      0   8.0500         0"
            ],
            "text/html": [
              "\n",
              "  <div id=\"df-56a709b5-647a-4e4a-82e1-9dd02d29f532\">\n",
              "    <div class=\"colab-df-container\">\n",
              "      <div>\n",
              "<style scoped>\n",
              "    .dataframe tbody tr th:only-of-type {\n",
              "        vertical-align: middle;\n",
              "    }\n",
              "\n",
              "    .dataframe tbody tr th {\n",
              "        vertical-align: top;\n",
              "    }\n",
              "\n",
              "    .dataframe thead th {\n",
              "        text-align: right;\n",
              "    }\n",
              "</style>\n",
              "<table border=\"1\" class=\"dataframe\">\n",
              "  <thead>\n",
              "    <tr style=\"text-align: right;\">\n",
              "      <th></th>\n",
              "      <th>Survived</th>\n",
              "      <th>Pclass</th>\n",
              "      <th>Sex</th>\n",
              "      <th>Age</th>\n",
              "      <th>SibSp</th>\n",
              "      <th>Parch</th>\n",
              "      <th>Fare</th>\n",
              "      <th>Embarked</th>\n",
              "    </tr>\n",
              "  </thead>\n",
              "  <tbody>\n",
              "    <tr>\n",
              "      <th>0</th>\n",
              "      <td>0</td>\n",
              "      <td>3</td>\n",
              "      <td>0</td>\n",
              "      <td>22</td>\n",
              "      <td>1</td>\n",
              "      <td>0</td>\n",
              "      <td>7.2500</td>\n",
              "      <td>0</td>\n",
              "    </tr>\n",
              "    <tr>\n",
              "      <th>1</th>\n",
              "      <td>1</td>\n",
              "      <td>1</td>\n",
              "      <td>1</td>\n",
              "      <td>38</td>\n",
              "      <td>1</td>\n",
              "      <td>0</td>\n",
              "      <td>71.2833</td>\n",
              "      <td>1</td>\n",
              "    </tr>\n",
              "    <tr>\n",
              "      <th>2</th>\n",
              "      <td>1</td>\n",
              "      <td>3</td>\n",
              "      <td>1</td>\n",
              "      <td>26</td>\n",
              "      <td>0</td>\n",
              "      <td>0</td>\n",
              "      <td>7.9250</td>\n",
              "      <td>0</td>\n",
              "    </tr>\n",
              "    <tr>\n",
              "      <th>3</th>\n",
              "      <td>1</td>\n",
              "      <td>1</td>\n",
              "      <td>1</td>\n",
              "      <td>35</td>\n",
              "      <td>1</td>\n",
              "      <td>0</td>\n",
              "      <td>53.1000</td>\n",
              "      <td>0</td>\n",
              "    </tr>\n",
              "    <tr>\n",
              "      <th>4</th>\n",
              "      <td>0</td>\n",
              "      <td>3</td>\n",
              "      <td>0</td>\n",
              "      <td>35</td>\n",
              "      <td>0</td>\n",
              "      <td>0</td>\n",
              "      <td>8.0500</td>\n",
              "      <td>0</td>\n",
              "    </tr>\n",
              "  </tbody>\n",
              "</table>\n",
              "</div>\n",
              "      <button class=\"colab-df-convert\" onclick=\"convertToInteractive('df-56a709b5-647a-4e4a-82e1-9dd02d29f532')\"\n",
              "              title=\"Convert this dataframe to an interactive table.\"\n",
              "              style=\"display:none;\">\n",
              "        \n",
              "  <svg xmlns=\"http://www.w3.org/2000/svg\" height=\"24px\"viewBox=\"0 0 24 24\"\n",
              "       width=\"24px\">\n",
              "    <path d=\"M0 0h24v24H0V0z\" fill=\"none\"/>\n",
              "    <path d=\"M18.56 5.44l.94 2.06.94-2.06 2.06-.94-2.06-.94-.94-2.06-.94 2.06-2.06.94zm-11 1L8.5 8.5l.94-2.06 2.06-.94-2.06-.94L8.5 2.5l-.94 2.06-2.06.94zm10 10l.94 2.06.94-2.06 2.06-.94-2.06-.94-.94-2.06-.94 2.06-2.06.94z\"/><path d=\"M17.41 7.96l-1.37-1.37c-.4-.4-.92-.59-1.43-.59-.52 0-1.04.2-1.43.59L10.3 9.45l-7.72 7.72c-.78.78-.78 2.05 0 2.83L4 21.41c.39.39.9.59 1.41.59.51 0 1.02-.2 1.41-.59l7.78-7.78 2.81-2.81c.8-.78.8-2.07 0-2.86zM5.41 20L4 18.59l7.72-7.72 1.47 1.35L5.41 20z\"/>\n",
              "  </svg>\n",
              "      </button>\n",
              "      \n",
              "  <style>\n",
              "    .colab-df-container {\n",
              "      display:flex;\n",
              "      flex-wrap:wrap;\n",
              "      gap: 12px;\n",
              "    }\n",
              "\n",
              "    .colab-df-convert {\n",
              "      background-color: #E8F0FE;\n",
              "      border: none;\n",
              "      border-radius: 50%;\n",
              "      cursor: pointer;\n",
              "      display: none;\n",
              "      fill: #1967D2;\n",
              "      height: 32px;\n",
              "      padding: 0 0 0 0;\n",
              "      width: 32px;\n",
              "    }\n",
              "\n",
              "    .colab-df-convert:hover {\n",
              "      background-color: #E2EBFA;\n",
              "      box-shadow: 0px 1px 2px rgba(60, 64, 67, 0.3), 0px 1px 3px 1px rgba(60, 64, 67, 0.15);\n",
              "      fill: #174EA6;\n",
              "    }\n",
              "\n",
              "    [theme=dark] .colab-df-convert {\n",
              "      background-color: #3B4455;\n",
              "      fill: #D2E3FC;\n",
              "    }\n",
              "\n",
              "    [theme=dark] .colab-df-convert:hover {\n",
              "      background-color: #434B5C;\n",
              "      box-shadow: 0px 1px 3px 1px rgba(0, 0, 0, 0.15);\n",
              "      filter: drop-shadow(0px 1px 2px rgba(0, 0, 0, 0.3));\n",
              "      fill: #FFFFFF;\n",
              "    }\n",
              "  </style>\n",
              "\n",
              "      <script>\n",
              "        const buttonEl =\n",
              "          document.querySelector('#df-56a709b5-647a-4e4a-82e1-9dd02d29f532 button.colab-df-convert');\n",
              "        buttonEl.style.display =\n",
              "          google.colab.kernel.accessAllowed ? 'block' : 'none';\n",
              "\n",
              "        async function convertToInteractive(key) {\n",
              "          const element = document.querySelector('#df-56a709b5-647a-4e4a-82e1-9dd02d29f532');\n",
              "          const dataTable =\n",
              "            await google.colab.kernel.invokeFunction('convertToInteractive',\n",
              "                                                     [key], {});\n",
              "          if (!dataTable) return;\n",
              "\n",
              "          const docLinkHtml = 'Like what you see? Visit the ' +\n",
              "            '<a target=\"_blank\" href=https://colab.research.google.com/notebooks/data_table.ipynb>data table notebook</a>'\n",
              "            + ' to learn more about interactive tables.';\n",
              "          element.innerHTML = '';\n",
              "          dataTable['output_type'] = 'display_data';\n",
              "          await google.colab.output.renderOutput(dataTable, element);\n",
              "          const docLink = document.createElement('div');\n",
              "          docLink.innerHTML = docLinkHtml;\n",
              "          element.appendChild(docLink);\n",
              "        }\n",
              "      </script>\n",
              "    </div>\n",
              "  </div>\n",
              "  "
            ]
          },
          "metadata": {},
          "execution_count": 8
        }
      ]
    },
    {
      "cell_type": "code",
      "source": [
        "train_set_mean= train_set.mean()\n",
        "train_set_std=train_set.std()\n",
        "\n",
        "train_set_norm=(train_set - train_set_mean)/train_set_std\n",
        "\n",
        "test_set_mean=test_set.mean()\n",
        "test_set_std= test_set.std()\n",
        "\n",
        "test_set_norm=(test_set - test_set_mean)/test_set_std"
      ],
      "metadata": {
        "id": "uQkVdsX7pgaO"
      },
      "execution_count": null,
      "outputs": []
    },
    {
      "cell_type": "code",
      "source": [
        "feature_coloumns=[]\n",
        "Age=tf.feature_column.numeric_column('Age')\n",
        "Pclass=tf.feature_column.numeric_column('Pclass')\n",
        "Embarked=tf.feature_column.numeric_column('Embarked')\n",
        "SibSp =tf.feature_column.numeric_column('SibSp')\n",
        "Parch=tf.feature_column.numeric_column('Parch')\n",
        "Sex=tf.feature_column.numeric_column('Sex')\n",
        "Fare=tf.feature_column.numeric_column('Fare')\n",
        "\n",
        "feature_coloumns.append(Age)\n",
        "feature_coloumns.append(Pclass)\n",
        "feature_coloumns.append(Embarked)\n",
        "feature_coloumns.append(SibSp)\n",
        "feature_coloumns.append(Parch)\n",
        "feature_coloumns.append(Sex)\n",
        "feature_coloumns.append(Fare)\n",
        "\n",
        "feature_layer=layers.DenseFeatures(feature_coloumns)\n",
        "feature_layer(dict(train_set_norm))\n"
      ],
      "metadata": {
        "id": "cYBmTSv_WMhf"
      },
      "execution_count": null,
      "outputs": []
    },
    {
      "cell_type": "code",
      "source": [
        "def create_model(my_learning_rate, feature_layer,my_metrics):\n",
        "      model =tf.keras.models.Sequential()\n",
        "      model.add(feature_layer)\n",
        "      model.add(tf.keras.layers.Dense(units=1,input_shape=(7,7), activation=tf.sigmoid),)\n",
        "      model.compile(optimizer=tf.keras.optimizers.RMSprop(lr=my_learning_rate),                                                   \n",
        "                loss=tf.keras.losses.BinaryCrossentropy(),\n",
        "                metrics=my_metrics)\n",
        "      return model\n"
      ],
      "metadata": {
        "id": "LpMuoFTscfB9"
      },
      "execution_count": null,
      "outputs": []
    },
    {
      "cell_type": "code",
      "source": [
        "def train_model(model,dataset,epochs,label_name,batch_size=None,shuffle=False):\n",
        "      features= {name:np.array(value) for name ,value in dataset.items()}\n",
        "      label = np.array(features.pop(label_name)) \n",
        "      history= model.fit(x=features,y=label,batch_size=batch_size,shuffle=shuffle)\n",
        "      epoch=history.epoch\n",
        "\n",
        "      hist= pd.DataFrame(history.history)\n",
        "      return epoch,hist"
      ],
      "metadata": {
        "id": "xCg-0PXrrClk"
      },
      "execution_count": null,
      "outputs": []
    },
    {
      "cell_type": "code",
      "source": [
        "def plot_function(epoch, hist, matrices):\n",
        "    plt.figure()\n",
        "    plt.xlabel(\"Epoch\")\n",
        "    plt.ylabel(\"Value\")\n",
        "\n",
        "    for m in matrices:\n",
        "          x=hist[m]\n",
        "          plt.plot(epoch[1:],x[1:],label=m)\n",
        "\n",
        "    \n",
        "    plt.legend()"
      ],
      "metadata": {
        "id": "BsUS7DjVxQls"
      },
      "execution_count": null,
      "outputs": []
    },
    {
      "cell_type": "code",
      "source": [
        "learning_rate=0.01\n",
        "epochs=30\n",
        "batch_size=100\n",
        "label=\"Survived\"\n",
        "treshold=0.5\n",
        "\n",
        "Metrics=[tf.keras.metrics.BinaryAccuracy(name='accuracy',threshold=treshold)]\n",
        "\n",
        "my_model= create_model(learning_rate,feature_layer,Metrics)\n",
        "\n",
        "epochs, hist= train_model(my_model,train_set_norm,epochs,label,batch_size)\n",
        "\n",
        "list_of_metrices=['accuracy']\n",
        "\n",
        "plot_function(epochs,hist, list_of_metrices)"
      ],
      "metadata": {
        "colab": {
          "base_uri": "https://localhost:8080/",
          "height": 386
        },
        "id": "IkqvehnQy4e1",
        "outputId": "aed30b26-2a40-4f6c-9602-1325e1b927c6"
      },
      "execution_count": null,
      "outputs": [
        {
          "output_type": "stream",
          "name": "stdout",
          "text": [
            "WARNING:tensorflow:Layers in a Sequential model should only have a single input tensor. Received: inputs={'Pclass': <tf.Tensor 'IteratorGetNext:4' shape=(None,) dtype=float32>, 'Sex': <tf.Tensor 'IteratorGetNext:5' shape=(None,) dtype=float32>, 'Age': <tf.Tensor 'IteratorGetNext:0' shape=(None,) dtype=float32>, 'SibSp': <tf.Tensor 'IteratorGetNext:6' shape=(None,) dtype=float32>, 'Parch': <tf.Tensor 'IteratorGetNext:3' shape=(None,) dtype=float32>, 'Fare': <tf.Tensor 'IteratorGetNext:2' shape=(None,) dtype=float32>, 'Embarked': <tf.Tensor 'IteratorGetNext:1' shape=(None,) dtype=float32>}. Consider rewriting this model with the Functional API.\n"
          ]
        },
        {
          "output_type": "stream",
          "name": "stderr",
          "text": [
            "/usr/local/lib/python3.7/dist-packages/keras/optimizer_v2/rmsprop.py:130: UserWarning: The `lr` argument is deprecated, use `learning_rate` instead.\n",
            "  super(RMSprop, self).__init__(name, **kwargs)\n"
          ]
        },
        {
          "output_type": "stream",
          "name": "stdout",
          "text": [
            "WARNING:tensorflow:Layers in a Sequential model should only have a single input tensor. Received: inputs={'Pclass': <tf.Tensor 'IteratorGetNext:4' shape=(None,) dtype=float32>, 'Sex': <tf.Tensor 'IteratorGetNext:5' shape=(None,) dtype=float32>, 'Age': <tf.Tensor 'IteratorGetNext:0' shape=(None,) dtype=float32>, 'SibSp': <tf.Tensor 'IteratorGetNext:6' shape=(None,) dtype=float32>, 'Parch': <tf.Tensor 'IteratorGetNext:3' shape=(None,) dtype=float32>, 'Fare': <tf.Tensor 'IteratorGetNext:2' shape=(None,) dtype=float32>, 'Embarked': <tf.Tensor 'IteratorGetNext:1' shape=(None,) dtype=float32>}. Consider rewriting this model with the Functional API.\n",
            "9/9 [==============================] - 1s 2ms/step - loss: 0.8121 - accuracy: 0.0000e+00\n"
          ]
        },
        {
          "output_type": "display_data",
          "data": {
            "text/plain": [
              "<Figure size 432x288 with 1 Axes>"
            ],
            "image/png": "[encoded data removed]"
          },
          "metadata": {
            "needs_background": "light"
          }
        }
      ]
    }
  ]
}