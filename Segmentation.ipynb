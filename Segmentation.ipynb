{
 "cells": [
  {
   "cell_type": "code",
   "execution_count": null,
   "id": "de3290d5",
   "metadata": {},
   "outputs": [],
   "source": [
    "!pip install scikit-image "
   ]
  },
  {
   "cell_type": "code",
   "execution_count": 1,
   "id": "a9901592",
   "metadata": {},
   "outputs": [],
   "source": [
    "import numpy as np\n",
    "import pandas as pd\n",
    "import cv2\n",
    "import os\n",
    "from skimage.filters import roberts, sobel, scharr, prewitt\n",
    "from scipy import ndimage as nd"
   ]
  },
  {
   "cell_type": "code",
   "execution_count": 2,
   "id": "26305ff7",
   "metadata": {},
   "outputs": [],
   "source": [
    "image_dataset=pd.DataFrame()\n",
    "img_path=\"C:/Users/Bumble Bee/Downloads/Research/Oral Cancer Detection/ftmp4cvtmb-1/First Set/Selected_Oscc/OSCC-1 - export/New folder/Image/\"\n",
    "for image in os.listdir(img_path):\n",
    "    df= pd.DataFrame()\n",
    "    input_img = cv2.imread(img_path+ image)\n",
    "    if input_img.ndim == 3 and input_img.shape[-1]==3:\n",
    "        img=cv2.cvtColor(input_img,cv2.COLOR_BGR2GRAY)\n",
    "    elif input_img.ndim==2:\n",
    "        img=input_img\n",
    "    else:\n",
    "        raise Exception(\"The module works on gray\")\n",
    "            \n",
    "    pixel_value=img.reshape(-1)\n",
    "    df[\"pixel_value\"]= pixel_value\n",
    "    df[\"image_name\"]=image\n",
    "    num=1\n",
    "    kernels=[]\n",
    "    for theta in range(2):\n",
    "        theta=theta /4 *np.pi\n",
    "        for sigma in (1,3):\n",
    "                for lamda in np.arange(0,np.pi,np.pi /4):\n",
    "                    for gamma in(0.05, 0.5):\n",
    "                        gabor_label='Gabor'+str(num)\n",
    "                        ksize=9\n",
    "                        kernel=cv2.getGaborKernel((ksize,ksize),sigma,theta,lamda,gamma,0, ktype=cv2.CV_32F)\n",
    "                        kernels.append(kernel)\n",
    "                        fimg=cv2.filter2D(img,cv2.CV_8UC3,kernel)\n",
    "                        filtered_img=fimg.reshape(-1)\n",
    "                        df[gabor_label]=filtered_img\n",
    "                        num+=1\n",
    "                        \n",
    "    edges=cv2.Canny(img,100,200)\n",
    "    edges1=edges.reshape(-1)\n",
    "    df['Canny edge']=edges1\n",
    "        \n",
    "    edge_roberts=roberts(img)\n",
    "    edge_roberts1=edge_roberts.reshape(-1)\n",
    "    df['Roberts']=edge_roberts1\n",
    "\n",
    "    edge_sobel =sobel(img)\n",
    "    edge_sobel1=edge_sobel.reshape(-1)\n",
    "    df['Sobel']= edge_sobel1\n",
    "\n",
    "    edge_scharr = scharr(img)\n",
    "    edge_scharr1 =edge_scharr.reshape(-1)\n",
    "    df['Scharr']=edge_scharr1\n",
    "\n",
    "    edge_prewitt= prewitt(img)\n",
    "    edge_prewitt1 = edge_prewitt.reshape(-1)\n",
    "    df['Prewitt']=edge_prewitt1\n",
    "\n",
    "    gaussian_img = nd.gaussian_filter(img,sigma=3)\n",
    "    gaussian_img1= gaussian_img.reshape(-1)\n",
    "    df['Gaussian s3']= gaussian_img1\n",
    "\n",
    "    gaussian_img2= nd.gaussian_filter(img,sigma=7)\n",
    "    gaussian_img3= gaussian_img.reshape(-1)\n",
    "    df['Gaussian s7']=gaussian_img3\n",
    "\n",
    "    median_img= nd.median_filter(img,size=3)\n",
    "    median_img1= median_img.reshape(-1)\n",
    "    df['Median s3']=median_img1\n",
    "        \n",
    "    image_dataset=pd.concat([image_dataset,df],ignore_index=True)"
   ]
  },
  {
   "cell_type": "code",
   "execution_count": 3,
   "id": "6e82c8c4",
   "metadata": {},
   "outputs": [],
   "source": [
    "mask_dataset =pd.DataFrame()\n",
    "mask_path =\"C:/Users/Bumble Bee/Downloads/Research/Oral Cancer Detection/ftmp4cvtmb-1/First Set/Selected_Oscc/OSCC-1 - export/New folder/mask/\"\n",
    "\n",
    "for mask in os.listdir(mask_path):\n",
    "    df2= pd.DataFrame()\n",
    "    masked_img= cv2.imread(mask_path+ mask)\n",
    "    masked_img=cv2.cvtColor(masked_img,cv2.COLOR_BGR2GRAY)\n",
    "    label_value=masked_img.reshape(-1)\n",
    "    df2[\"Label_value\"]= label_value\n",
    "    df2[\"Mask_name\"]=mask\n",
    "    \n",
    "    mask_dataset = pd.concat([mask_dataset,df2],ignore_index=True)\n",
    "    "
   ]
  },
  {
   "cell_type": "code",
   "execution_count": 4,
   "id": "3ea20b0f",
   "metadata": {},
   "outputs": [],
   "source": [
    "dataset=pd.concat([df, mask_dataset],axis=1)\n",
    "dataset.fillna(0, inplace=True)\n",
    "dataset =dataset[dataset.Label_value !=0]"
   ]
  },
  {
   "cell_type": "code",
   "execution_count": 5,
   "id": "8e6425ee",
   "metadata": {},
   "outputs": [],
   "source": [
    "x=dataset.drop(labels =[\"image_name\",\"Mask_name\",\"Label_value\"],axis=1)\n",
    "y=dataset[\"Label_value\"].values"
   ]
  },
  {
   "cell_type": "code",
   "execution_count": 6,
   "id": "6b0735e8",
   "metadata": {},
   "outputs": [],
   "source": [
    "from sklearn.model_selection import train_test_split\n",
    "x_train,x_test, y_train , y_test = train_test_split(x,y,test_size=0.2, random_state=20)\n"
   ]
  },
  {
   "cell_type": "code",
   "execution_count": null,
   "id": "2ce37b92",
   "metadata": {},
   "outputs": [],
   "source": [
    "from sklearn.ensemble import RandomForestClassifier\n",
    "model= RandomForestClassifier(n_estimators=10, random_state=42)\n",
    "model.fit(x_train,y_train)"
   ]
  },
  {
   "cell_type": "code",
   "execution_count": null,
   "id": "07f63048",
   "metadata": {},
   "outputs": [],
   "source": [
    "import pickle\n",
    "filename = \"oscc_model1\"\n",
    "pickle.dump(model, open(filename, 'wb'))"
   ]
  },
  {
   "cell_type": "code",
   "execution_count": null,
   "id": "4be47609",
   "metadata": {},
   "outputs": [],
   "source": [
    "def feature_extraction(img):\n",
    "    tmp_df = pd.DataFrame()\n",
    "\n",
    "    img2 = img.reshape(-1)\n",
    "    tmp_df['Original Image'] = img2\n",
    "\n",
    "    num = 1\n",
    "    kernels = []\n",
    "    for theta in range(2):\n",
    "        theta = theta / 4. * np.pi\n",
    "        for sigma in (1, 3):\n",
    "            for lamda in np.arange(0, np.pi, np.pi / 4):\n",
    "                for gamma in (0.05, 0.5):\n",
    "                \n",
    "                    gabor_label = 'Gabor' + str(num)\n",
    "                    ksize=9\n",
    "                    kernel = cv2.getGaborKernel((ksize, ksize), sigma, theta, lamda, gamma, 0, ktype=cv2.CV_32F)    \n",
    "                    kernels.append(kernel)\n",
    "                    fimg = cv2.filter2D(img2, cv2.CV_8UC3, kernel)\n",
    "                    filtered_img = fimg.reshape(-1)\n",
    "                    tmp_df[gabor_label] = filtered_img \n",
    "                    num += 1\n",
    "                    \n",
    "    edges = cv2.Canny(img, 100,200)   \n",
    "    edges1 = edges.reshape(-1)\n",
    "    tmp_df['Canny Edge'] = edges1 \n",
    "\n",
    "    edge_roberts = roberts(img)\n",
    "    edge_roberts1 = edge_roberts.reshape(-1)\n",
    "    tmp_df['Roberts'] = edge_roberts1\n",
    "\n",
    "    edge_sobel = sobel(img)\n",
    "    edge_sobel1 = edge_sobel.reshape(-1)\n",
    "    tmp_df['Sobel'] = edge_sobel1\n",
    "\n",
    "    edge_scharr = scharr(img)\n",
    "    edge_scharr1 = edge_scharr.reshape(-1)\n",
    "    tmp_df['Scharr'] = edge_scharr1\n",
    "\n",
    "    edge_prewitt = prewitt(img)\n",
    "    edge_prewitt1 = edge_prewitt.reshape(-1)\n",
    "    tmp_df['Prewitt'] = edge_prewitt1\n",
    "\n",
    "    gaussian_img = nd.gaussian_filter(img, sigma=3)\n",
    "    gaussian_img1 = gaussian_img.reshape(-1)\n",
    "    tmp_df['Gaussian s3'] = gaussian_img1\n",
    "\n",
    "    gaussian_img2 = nd.gaussian_filter(img, sigma=7)\n",
    "    gaussian_img3 = gaussian_img2.reshape(-1)\n",
    "    tmp_df['Gaussian s7'] = gaussian_img3\n",
    "\n",
    "    median_img = nd.median_filter(img, size=3)\n",
    "    median_img1 = median_img.reshape(-1)\n",
    "    tmp_df['Median s3'] = median_img1\n",
    "\n",
    "    return tmp_df"
   ]
  },
  {
   "cell_type": "code",
   "execution_count": null,
   "id": "83ee27ae",
   "metadata": {},
   "outputs": [],
   "source": [
    "loaded_model = pickle.load(open(filename, 'rb'))"
   ]
  },
  {
   "cell_type": "code",
   "execution_count": null,
   "id": "52100297",
   "metadata": {},
   "outputs": [],
   "source": [
    "import glob\n",
    "import matplotlib.pyplot as plt \n",
    "\n",
    "path = \"C:/Users/Bumble Bee/Downloads/Research/Oral Cancer Detection/ftmp4cvtmb-1/First Set/Selected_Oscc/Basic Segmentation/*.jpg\"\n",
    "for file in glob.glob(path):\n",
    "    print(file)\n",
    "    img1 = cv2.imread(file)\n",
    "    img = cv2.cvtColor(img1, cv2.COLOR_BGR2GRAY)\n",
    "\n",
    "    X = feature_extraction(img)\n",
    "    result = loaded_model.predict(X)\n",
    "    segmented = result.reshape((img.shape))\n",
    "    \n",
    "    name = os.path.splitext(os.path.basename(file))[0]\n",
    "    output_dir = \"E:/Segmented\"\n",
    "    os.makedirs(output_dir, exist_ok=True)\n",
    "\n",
    "    output_file = os.path.join(output_dir, name + '_segmented.jpg')\n",
    "    plt.imsave(output_file, segmented, cmap='jet')\n"
   ]
  },
  {
   "cell_type": "code",
   "execution_count": null,
   "id": "20b3c561",
   "metadata": {},
   "outputs": [],
   "source": []
  },
  {
   "cell_type": "code",
   "execution_count": null,
   "id": "13bdf632",
   "metadata": {},
   "outputs": [],
   "source": []
  },
  {
   "cell_type": "code",
   "execution_count": null,
   "id": "4ef06a27",
   "metadata": {},
   "outputs": [],
   "source": []
  },
  {
   "cell_type": "code",
   "execution_count": null,
   "id": "1df00845",
   "metadata": {},
   "outputs": [],
   "source": []
  },
  {
   "cell_type": "code",
   "execution_count": null,
   "id": "b04e530b",
   "metadata": {},
   "outputs": [],
   "source": []
  },
  {
   "cell_type": "code",
   "execution_count": null,
   "id": "4ca09f01",
   "metadata": {},
   "outputs": [],
   "source": []
  },
  {
   "cell_type": "code",
   "execution_count": null,
   "id": "57944526",
   "metadata": {},
   "outputs": [],
   "source": []
  },
  {
   "cell_type": "code",
   "execution_count": 7,
   "id": "ba363ae4",
   "metadata": {},
   "outputs": [
    {
     "ename": "ValueError",
     "evalue": "The number of classes has to be greater than one; got 1 class",
     "output_type": "error",
     "traceback": [
      "\u001b[1;31m---------------------------------------------------------------------------\u001b[0m",
      "\u001b[1;31mValueError\u001b[0m                                Traceback (most recent call last)",
      "\u001b[1;32m<ipython-input-7-0ca28d6f73cf>\u001b[0m in \u001b[0;36m<module>\u001b[1;34m\u001b[0m\n\u001b[0;32m      1\u001b[0m \u001b[1;32mfrom\u001b[0m \u001b[0msklearn\u001b[0m\u001b[1;33m.\u001b[0m\u001b[0msvm\u001b[0m \u001b[1;32mimport\u001b[0m \u001b[0mSVC\u001b[0m\u001b[1;33m\u001b[0m\u001b[1;33m\u001b[0m\u001b[0m\n\u001b[0;32m      2\u001b[0m \u001b[0mmodel_SVM\u001b[0m \u001b[1;33m=\u001b[0m\u001b[0mSVC\u001b[0m\u001b[1;33m(\u001b[0m\u001b[0mkernel\u001b[0m\u001b[1;33m=\u001b[0m\u001b[1;34m'rbf'\u001b[0m\u001b[1;33m)\u001b[0m\u001b[1;33m\u001b[0m\u001b[1;33m\u001b[0m\u001b[0m\n\u001b[1;32m----> 3\u001b[1;33m \u001b[0mmodel_SVM\u001b[0m\u001b[1;33m.\u001b[0m\u001b[0mfit\u001b[0m\u001b[1;33m(\u001b[0m\u001b[0mx_train\u001b[0m\u001b[1;33m,\u001b[0m\u001b[0my_train\u001b[0m\u001b[1;33m)\u001b[0m\u001b[1;33m\u001b[0m\u001b[1;33m\u001b[0m\u001b[0m\n\u001b[0m",
      "\u001b[1;32mC:\\Anaconda\\envs\\machine_learning\\lib\\site-packages\\sklearn\\svm\\_base.py\u001b[0m in \u001b[0;36mfit\u001b[1;34m(self, X, y, sample_weight)\u001b[0m\n\u001b[0;32m    171\u001b[0m                                        accept_large_sparse=False)\n\u001b[0;32m    172\u001b[0m \u001b[1;33m\u001b[0m\u001b[0m\n\u001b[1;32m--> 173\u001b[1;33m         \u001b[0my\u001b[0m \u001b[1;33m=\u001b[0m \u001b[0mself\u001b[0m\u001b[1;33m.\u001b[0m\u001b[0m_validate_targets\u001b[0m\u001b[1;33m(\u001b[0m\u001b[0my\u001b[0m\u001b[1;33m)\u001b[0m\u001b[1;33m\u001b[0m\u001b[1;33m\u001b[0m\u001b[0m\n\u001b[0m\u001b[0;32m    174\u001b[0m \u001b[1;33m\u001b[0m\u001b[0m\n\u001b[0;32m    175\u001b[0m         sample_weight = np.asarray([]\n",
      "\u001b[1;32mC:\\Anaconda\\envs\\machine_learning\\lib\\site-packages\\sklearn\\svm\\_base.py\u001b[0m in \u001b[0;36m_validate_targets\u001b[1;34m(self, y)\u001b[0m\n\u001b[0;32m    558\u001b[0m             raise ValueError(\n\u001b[0;32m    559\u001b[0m                 \u001b[1;34m\"The number of classes has to be greater than one; got %d\"\u001b[0m\u001b[1;33m\u001b[0m\u001b[1;33m\u001b[0m\u001b[0m\n\u001b[1;32m--> 560\u001b[1;33m                 \" class\" % len(cls))\n\u001b[0m\u001b[0;32m    561\u001b[0m \u001b[1;33m\u001b[0m\u001b[0m\n\u001b[0;32m    562\u001b[0m         \u001b[0mself\u001b[0m\u001b[1;33m.\u001b[0m\u001b[0mclasses_\u001b[0m \u001b[1;33m=\u001b[0m \u001b[0mcls\u001b[0m\u001b[1;33m\u001b[0m\u001b[1;33m\u001b[0m\u001b[0m\n",
      "\u001b[1;31mValueError\u001b[0m: The number of classes has to be greater than one; got 1 class"
     ]
    }
   ],
   "source": [
    "from sklearn.svm import SVC\n",
    "model_SVM =SVC(kernel='rbf')\n",
    "model_SVM.fit(x_train,y_train)"
   ]
  },
  {
   "cell_type": "code",
   "execution_count": null,
   "id": "b2a9a126",
   "metadata": {},
   "outputs": [],
   "source": [
    "from sklearn import metrics\n",
    "prediction_test_random= model.predict(x_test)\n",
    "prediction_test_svm =model_SVM.predict(x_test)\n",
    "print(\"Accuracy= \",metrics.accuracy_score(y_test,prediction_test_random))\n",
    "print(\"Accuracy= \",metrics.accuracy_score(y_test,prediction_test_svm))"
   ]
  },
  {
   "cell_type": "code",
   "execution_count": null,
   "id": "e28129cf",
   "metadata": {},
   "outputs": [],
   "source": []
  },
  {
   "cell_type": "code",
   "execution_count": null,
   "id": "026ee719",
   "metadata": {},
   "outputs": [],
   "source": []
  },
  {
   "cell_type": "code",
   "execution_count": null,
   "id": "fc6f6a87",
   "metadata": {},
   "outputs": [],
   "source": []
  },
  {
   "cell_type": "code",
   "execution_count": null,
   "id": "c3115000",
   "metadata": {},
   "outputs": [],
   "source": []
  },
  {
   "cell_type": "code",
   "execution_count": null,
   "id": "e927b142",
   "metadata": {},
   "outputs": [],
   "source": []
  },
  {
   "cell_type": "code",
   "execution_count": null,
   "id": "165a262c",
   "metadata": {},
   "outputs": [],
   "source": [
    "labeled_img=cv2.imread()"
   ]
  },
  {
   "cell_type": "code",
   "execution_count": null,
   "id": "ec3309ae",
   "metadata": {},
   "outputs": [],
   "source": [
    "labeled_img=cv2.cvtColor(labeled_img,cv2.COLOR_BGR2GRAY)\n",
    "labeled_img1=labeled_img.reshape(-1)\n",
    "df['Labels']=labeled_img1\n",
    "printf(df.head())"
   ]
  },
  {
   "cell_type": "code",
   "execution_count": null,
   "id": "77447c72",
   "metadata": {},
   "outputs": [],
   "source": [
    "original_img_data =df.drop(labels =['Labels'],axis=1)\n",
    "df=df[df.Labels !=0]"
   ]
  },
  {
   "cell_type": "code",
   "execution_count": null,
   "id": "bc08e1a7",
   "metadata": {},
   "outputs": [],
   "source": [
    "y= df['Label'].values\n",
    "from sklearn.preprocessing import LabelEncoder\n",
    "y=LabelEncoder().fit_transfrom(y)"
   ]
  },
  {
   "cell_type": "code",
   "execution_count": null,
   "id": "9761afd5",
   "metadata": {},
   "outputs": [],
   "source": [
    "feature_list=list(x.columns)\n",
    "feauture_imp=pd.Series(model.feature_importances_,index=feature_list).sort_values(ascending)\n",
    "print(feature_imp)"
   ]
  },
  {
   "cell_type": "code",
   "execution_count": null,
   "id": "fab066a9",
   "metadata": {},
   "outputs": [],
   "source": [
    "from sklearn.svm import LinearSVC\n",
    "model_SVM =LinearSVC(max_iter=100)\n",
    "model_SVM.fit(x_train,y_train)"
   ]
  },
  {
   "cell_type": "code",
   "execution_count": null,
   "id": "65034d70",
   "metadata": {},
   "outputs": [],
   "source": [
    "prediction_random= model.predict(x_test)\n",
    "prediction_SVM = model_SVM.predict(x_test)"
   ]
  }
 ],
 "metadata": {
  "kernelspec": {
   "display_name": "Python 3",
   "language": "python",
   "name": "python3"
  },
  "language_info": {
   "codemirror_mode": {
    "name": "ipython",
    "version": 3
   },
   "file_extension": ".py",
   "mimetype": "text/x-python",
   "name": "python",
   "nbconvert_exporter": "python",
   "pygments_lexer": "ipython3",
   "version": "3.6.13"
  }
 },
 "nbformat": 4,
 "nbformat_minor": 5
}
